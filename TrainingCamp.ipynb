{
 "cells": [
  {
   "cell_type": "code",
   "execution_count": 13,
   "id": "741c3371",
   "metadata": {},
   "outputs": [
    {
     "name": "stderr",
     "output_type": "stream",
     "text": [
      "C:\\Users\\Usuario 1\\AppData\\Local\\Temp\\ipykernel_17896\\1606772455.py:36: FutureWarning: The default value of numeric_only in DataFrame.median is deprecated. In a future version, it will default to False. In addition, specifying 'numeric_only=None' is deprecated. Select only valid columns or specify the value of numeric_only to silence this warning.\n",
      "  car_data = car_data.fillna(car_data.median())\n",
      "C:\\Users\\Usuario 1\\AppData\\Local\\Temp\\ipykernel_17896\\1606772455.py:37: FutureWarning: The default value of numeric_only in DataFrame.corr is deprecated. In a future version, it will default to False. Select only valid columns or specify the value of numeric_only to silence this warning.\n",
      "  car_data.corr()\n"
     ]
    },
    {
     "data": {
      "text/html": [
       "<div>\n",
       "<style scoped>\n",
       "    .dataframe tbody tr th:only-of-type {\n",
       "        vertical-align: middle;\n",
       "    }\n",
       "\n",
       "    .dataframe tbody tr th {\n",
       "        vertical-align: top;\n",
       "    }\n",
       "\n",
       "    .dataframe thead th {\n",
       "        text-align: right;\n",
       "    }\n",
       "</style>\n",
       "<table border=\"1\" class=\"dataframe\">\n",
       "  <thead>\n",
       "    <tr style=\"text-align: right;\">\n",
       "      <th></th>\n",
       "      <th>year</th>\n",
       "      <th>selling_price</th>\n",
       "      <th>km_driven</th>\n",
       "      <th>fuel</th>\n",
       "      <th>seller_type</th>\n",
       "      <th>transmission</th>\n",
       "      <th>owner</th>\n",
       "      <th>mileage</th>\n",
       "      <th>engine</th>\n",
       "      <th>max_power</th>\n",
       "      <th>seats</th>\n",
       "    </tr>\n",
       "  </thead>\n",
       "  <tbody>\n",
       "    <tr>\n",
       "      <th>year</th>\n",
       "      <td>1.000000</td>\n",
       "      <td>0.414092</td>\n",
       "      <td>-0.418006</td>\n",
       "      <td>-0.063381</td>\n",
       "      <td>0.234741</td>\n",
       "      <td>0.244707</td>\n",
       "      <td>-0.504905</td>\n",
       "      <td>0.311657</td>\n",
       "      <td>0.035851</td>\n",
       "      <td>0.224704</td>\n",
       "      <td>0.010222</td>\n",
       "    </tr>\n",
       "    <tr>\n",
       "      <th>selling_price</th>\n",
       "      <td>0.414092</td>\n",
       "      <td>1.000000</td>\n",
       "      <td>-0.225534</td>\n",
       "      <td>-0.205453</td>\n",
       "      <td>0.323047</td>\n",
       "      <td>0.588845</td>\n",
       "      <td>-0.221915</td>\n",
       "      <td>-0.125040</td>\n",
       "      <td>0.458345</td>\n",
       "      <td>0.747935</td>\n",
       "      <td>0.047135</td>\n",
       "    </tr>\n",
       "    <tr>\n",
       "      <th>km_driven</th>\n",
       "      <td>-0.418006</td>\n",
       "      <td>-0.225534</td>\n",
       "      <td>1.000000</td>\n",
       "      <td>-0.240273</td>\n",
       "      <td>-0.194966</td>\n",
       "      <td>-0.201229</td>\n",
       "      <td>0.282745</td>\n",
       "      <td>-0.171746</td>\n",
       "      <td>0.198911</td>\n",
       "      <td>-0.040599</td>\n",
       "      <td>0.219860</td>\n",
       "    </tr>\n",
       "    <tr>\n",
       "      <th>fuel</th>\n",
       "      <td>-0.063381</td>\n",
       "      <td>-0.205453</td>\n",
       "      <td>-0.240273</td>\n",
       "      <td>1.000000</td>\n",
       "      <td>0.034963</td>\n",
       "      <td>0.011879</td>\n",
       "      <td>0.000081</td>\n",
       "      <td>-0.044207</td>\n",
       "      <td>-0.485761</td>\n",
       "      <td>-0.302258</td>\n",
       "      <td>-0.335884</td>\n",
       "    </tr>\n",
       "    <tr>\n",
       "      <th>seller_type</th>\n",
       "      <td>0.234741</td>\n",
       "      <td>0.323047</td>\n",
       "      <td>-0.194966</td>\n",
       "      <td>0.034963</td>\n",
       "      <td>1.000000</td>\n",
       "      <td>0.355598</td>\n",
       "      <td>-0.200111</td>\n",
       "      <td>-0.022228</td>\n",
       "      <td>0.121836</td>\n",
       "      <td>0.238308</td>\n",
       "      <td>-0.071926</td>\n",
       "    </tr>\n",
       "    <tr>\n",
       "      <th>transmission</th>\n",
       "      <td>0.244707</td>\n",
       "      <td>0.588845</td>\n",
       "      <td>-0.201229</td>\n",
       "      <td>0.011879</td>\n",
       "      <td>0.355598</td>\n",
       "      <td>1.000000</td>\n",
       "      <td>-0.141456</td>\n",
       "      <td>-0.177593</td>\n",
       "      <td>0.283986</td>\n",
       "      <td>0.539547</td>\n",
       "      <td>-0.069070</td>\n",
       "    </tr>\n",
       "    <tr>\n",
       "      <th>owner</th>\n",
       "      <td>-0.504905</td>\n",
       "      <td>-0.221915</td>\n",
       "      <td>0.282745</td>\n",
       "      <td>0.000081</td>\n",
       "      <td>-0.200111</td>\n",
       "      <td>-0.141456</td>\n",
       "      <td>1.000000</td>\n",
       "      <td>-0.170589</td>\n",
       "      <td>-0.001224</td>\n",
       "      <td>-0.105877</td>\n",
       "      <td>0.017957</td>\n",
       "    </tr>\n",
       "    <tr>\n",
       "      <th>mileage</th>\n",
       "      <td>0.311657</td>\n",
       "      <td>-0.125040</td>\n",
       "      <td>-0.171746</td>\n",
       "      <td>-0.044207</td>\n",
       "      <td>-0.022228</td>\n",
       "      <td>-0.177593</td>\n",
       "      <td>-0.170589</td>\n",
       "      <td>1.000000</td>\n",
       "      <td>-0.574128</td>\n",
       "      <td>-0.372897</td>\n",
       "      <td>-0.450578</td>\n",
       "    </tr>\n",
       "    <tr>\n",
       "      <th>engine</th>\n",
       "      <td>0.035851</td>\n",
       "      <td>0.458345</td>\n",
       "      <td>0.198911</td>\n",
       "      <td>-0.485761</td>\n",
       "      <td>0.121836</td>\n",
       "      <td>0.283986</td>\n",
       "      <td>-0.001224</td>\n",
       "      <td>-0.574128</td>\n",
       "      <td>1.000000</td>\n",
       "      <td>0.703612</td>\n",
       "      <td>0.612220</td>\n",
       "    </tr>\n",
       "    <tr>\n",
       "      <th>max_power</th>\n",
       "      <td>0.224704</td>\n",
       "      <td>0.747935</td>\n",
       "      <td>-0.040599</td>\n",
       "      <td>-0.302258</td>\n",
       "      <td>0.238308</td>\n",
       "      <td>0.539547</td>\n",
       "      <td>-0.105877</td>\n",
       "      <td>-0.372897</td>\n",
       "      <td>0.703612</td>\n",
       "      <td>1.000000</td>\n",
       "      <td>0.194556</td>\n",
       "    </tr>\n",
       "    <tr>\n",
       "      <th>seats</th>\n",
       "      <td>0.010222</td>\n",
       "      <td>0.047135</td>\n",
       "      <td>0.219860</td>\n",
       "      <td>-0.335884</td>\n",
       "      <td>-0.071926</td>\n",
       "      <td>-0.069070</td>\n",
       "      <td>0.017957</td>\n",
       "      <td>-0.450578</td>\n",
       "      <td>0.612220</td>\n",
       "      <td>0.194556</td>\n",
       "      <td>1.000000</td>\n",
       "    </tr>\n",
       "  </tbody>\n",
       "</table>\n",
       "</div>"
      ],
      "text/plain": [
       "                   year  selling_price  km_driven      fuel  seller_type  \\\n",
       "year           1.000000       0.414092  -0.418006 -0.063381     0.234741   \n",
       "selling_price  0.414092       1.000000  -0.225534 -0.205453     0.323047   \n",
       "km_driven     -0.418006      -0.225534   1.000000 -0.240273    -0.194966   \n",
       "fuel          -0.063381      -0.205453  -0.240273  1.000000     0.034963   \n",
       "seller_type    0.234741       0.323047  -0.194966  0.034963     1.000000   \n",
       "transmission   0.244707       0.588845  -0.201229  0.011879     0.355598   \n",
       "owner         -0.504905      -0.221915   0.282745  0.000081    -0.200111   \n",
       "mileage        0.311657      -0.125040  -0.171746 -0.044207    -0.022228   \n",
       "engine         0.035851       0.458345   0.198911 -0.485761     0.121836   \n",
       "max_power      0.224704       0.747935  -0.040599 -0.302258     0.238308   \n",
       "seats          0.010222       0.047135   0.219860 -0.335884    -0.071926   \n",
       "\n",
       "               transmission     owner   mileage    engine  max_power     seats  \n",
       "year               0.244707 -0.504905  0.311657  0.035851   0.224704  0.010222  \n",
       "selling_price      0.588845 -0.221915 -0.125040  0.458345   0.747935  0.047135  \n",
       "km_driven         -0.201229  0.282745 -0.171746  0.198911  -0.040599  0.219860  \n",
       "fuel               0.011879  0.000081 -0.044207 -0.485761  -0.302258 -0.335884  \n",
       "seller_type        0.355598 -0.200111 -0.022228  0.121836   0.238308 -0.071926  \n",
       "transmission       1.000000 -0.141456 -0.177593  0.283986   0.539547 -0.069070  \n",
       "owner             -0.141456  1.000000 -0.170589 -0.001224  -0.105877  0.017957  \n",
       "mileage           -0.177593 -0.170589  1.000000 -0.574128  -0.372897 -0.450578  \n",
       "engine             0.283986 -0.001224 -0.574128  1.000000   0.703612  0.612220  \n",
       "max_power          0.539547 -0.105877 -0.372897  0.703612   1.000000  0.194556  \n",
       "seats             -0.069070  0.017957 -0.450578  0.612220   0.194556  1.000000  "
      ]
     },
     "execution_count": 13,
     "metadata": {},
     "output_type": "execute_result"
    }
   ],
   "source": [
    "import pandas as pd\n",
    "from sklearn.tree import DecisionTreeClassifier\n",
    "from sklearn.model_selection import train_test_split\n",
    "from sklearn.metrics import accuracy_score\n",
    "import category_encoders as ce\n",
    "import matplotlib.pyplot as plt\n",
    "import seaborn as sns\n",
    "import numpy as np\n",
    "from scipy import stats\n",
    "\n",
    "\n",
    "\n",
    "car_data = pd.read_csv('Car details v3.csv')\n",
    "car_data.drop(['torque'], axis=1, inplace=True)\n",
    "\n",
    "\n",
    "car_data.fuel = car_data.fuel.map({'Diesel':0, 'Petrol':1, 'CNG':2, 'LPG':3})\n",
    "car_data.seller_type = car_data.seller_type.map({'Individual':0, 'Dealer':1, 'Trustmark Dealer':2})\n",
    "car_data.transmission = car_data.transmission.map({'Manual':0, 'Automatic':1})\n",
    "car_data.owner = car_data.owner.map({'First Owner':0,'Second Owner':1, 'Third Owner':2,'Fourth & Above Owner':3, 'Test Drive Car':4})\n",
    "Correct_Mileage=[]\n",
    "for i in car_data.mileage:\n",
    "    if str(i).endswith('km/kg'):\n",
    "        i =  i[:-6]\n",
    "        i = float(i)*1.40\n",
    "        Correct_Mileage.append(float(i))\n",
    "    elif str (i).endswith('kmpl'):\n",
    "        i = i[:-6]\n",
    "        Correct_Mileage.append(float(i))\n",
    "        \n",
    "car_data['mileage'] = car_data['mileage'].replace([' kmpl', ' km/kg'], '' , regex=True)\n",
    "car_data['engine'] = car_data['engine'].replace(' CC', '' , regex=True)\n",
    "\n",
    "car_data['engine']=car_data['engine'].astype(float)\n",
    "car_data['mileage']=car_data['mileage'].astype(float)\n",
    "car_data = car_data.fillna(car_data.median())\n",
    "car_data.corr()"
   ]
  },
  {
   "cell_type": "code",
   "execution_count": 11,
   "id": "a5274f78",
   "metadata": {
    "scrolled": true
   },
   "outputs": [
    {
     "name": "stdout",
     "output_type": "stream",
     "text": [
      "mean squared error : 216289629536.94684\n",
      "r square : 0.6871108082040801\n"
     ]
    },
    {
     "name": "stderr",
     "output_type": "stream",
     "text": [
      "C:\\Users\\Usuario 1\\AppData\\Local\\Temp\\ipykernel_17896\\1319113037.py:35: FutureWarning: The default value of numeric_only in DataFrame.median is deprecated. In a future version, it will default to False. In addition, specifying 'numeric_only=None' is deprecated. Select only valid columns or specify the value of numeric_only to silence this warning.\n",
      "  car_data = car_data.fillna(car_data.median())\n"
     ]
    },
    {
     "data": {
      "text/plain": [
       "False"
      ]
     },
     "execution_count": 11,
     "metadata": {},
     "output_type": "execute_result"
    }
   ],
   "source": [
    "\n",
    "\n",
    "\n",
    "car_data.drop()\n",
    "\n",
    "\n",
    "\n",
    "car_data.name = car_data.name.str.split().str.get(0)\n",
    "\n",
    "\n",
    "name = car_data['name']\n",
    "encoder = ce.OrdinalEncoder(cols=['name'])\n",
    "name2 = encoder.fit_transform(name)\n",
    "car_data.drop(['name'], axis=1, inplace= True)\n",
    "car_data = name2.join(car_data)\n",
    "def remove_outlier(df_in, col_name):\n",
    "    q1 = df_in[col_name].quantile(0.25)\n",
    "    q3 = df_in[col_name].quantile(0.75)\n",
    "    iqr = q3-q1 #Interquartile range\n",
    "    fence_low  = q1-1.5*iqr\n",
    "    fence_high = q3+1.5*iqr\n",
    "    df_out = df_in.loc[(df_in[col_name] > fence_low) & (df_in[col_name] < fence_high)]\n",
    "    return df_out\n",
    "\n",
    "\n",
    "\n",
    "\n",
    "\n",
    "\n",
    "\n",
    "\n",
    "car_data.sample(frac=1)\n",
    "\n",
    "X = car_data.drop(columns=['selling_price'])\n",
    "y = car_data['selling_price']\n",
    "\n",
    "X_train,X_test,y_train,y_test = train_test_split(X,y,train_size=0.70,random_state=100)\n",
    "from sklearn.linear_model import LinearRegression\n",
    "lr = LinearRegression()\n",
    "lr.fit(X_train, y_train)\n",
    "y_pred = lr.predict(X_test)\n",
    "\n",
    "from sklearn.metrics import r2_score,mean_squared_error\n",
    "\n",
    "mse = mean_squared_error(y_test,y_pred)\n",
    "rsq = r2_score(y_test,y_pred)\n",
    "\n",
    "print('mean squared error :',mse)\n",
    "print('r square :',rsq)\n",
    "\n",
    "\n",
    "\n",
    "\n",
    "\n",
    "\n",
    "\n"
   ]
  },
  {
   "cell_type": "code",
   "execution_count": 10,
   "id": "47d88395",
   "metadata": {},
   "outputs": [
    {
     "name": "stdout",
     "output_type": "stream",
     "text": [
      "mean squared error : 216289629536.94684\n",
      "r square : 0.6871108082040801\n",
      "mean squared error : 122783425011.39134\n",
      "r square : 0.8223788782661601\n",
      "mean squared error : 734497255353.0538\n",
      "r square : -0.0625393972690722\n",
      "mean squared error : 28784656085.985542\n",
      "r square : 0.9583595024960314\n",
      "mean squared error : 29951895765.83527\n",
      "r square : 0.9566709486765894\n",
      "mean squared error : 102729870600.3744\n",
      "r square : 0.8513887778426295\n",
      "mean squared error : 21981527583.227722\n",
      "r square : 0.9682010533067145\n"
     ]
    },
    {
     "data": {
      "text/plain": [
       "(8128, 12)"
      ]
     },
     "execution_count": 10,
     "metadata": {},
     "output_type": "execute_result"
    }
   ],
   "source": [
    "X = car_data.drop(columns=['selling_price'])\n",
    "\n",
    "y = car_data['selling_price']\n",
    "X_train,X_test,y_train,y_test = train_test_split(X,y,train_size=0.7,random_state=100)\n",
    "from sklearn.linear_model import LinearRegression\n",
    "lr = LinearRegression()\n",
    "lr.fit(X_train, y_train)\n",
    "\n",
    "\n",
    "from sklearn.metrics import r2_score,mean_squared_error\n",
    "y_pred = lr.predict(X_test)\n",
    "mse = mean_squared_error(y_test,y_pred)\n",
    "rsq = r2_score(y_test,y_pred)\n",
    "\n",
    "print('mean squared error :',mse)\n",
    "print('r square for linear regression:',rsq)\n",
    "\n",
    "\n",
    "\n",
    "from sklearn.neighbors import KNeighborsRegressor\n",
    "\n",
    "knn=KNeighborsRegressor()\n",
    "knn.fit(X_train, y_train)\n",
    "y_pred1 = knn.predict(X_test)\n",
    "mse1 = mean_squared_error(y_test,y_pred1)\n",
    "rsq1 = r2_score(y_test,y_pred1)\n",
    "\n",
    "print('mean squared error :',mse1)\n",
    "print('r square for KNeighborsRegressor:',rsq1)\n",
    "\n",
    "from sklearn.svm import SVR\n",
    "svr=SVR()\n",
    "svr.fit(X_train, y_train)\n",
    "y_pred2 = svr.predict(X_test)\n",
    "mse2 = mean_squared_error(y_test,y_pred2)\n",
    "rsq2 = r2_score(y_test,y_pred2)\n",
    "\n",
    "print('mean squared error :',mse2)\n",
    "print('r square for SVR:',rsq2)\n",
    "from sklearn.tree import DecisionTreeRegressor\n",
    "dt=DecisionTreeRegressor()\n",
    "dt.fit(X_train, y_train)\n",
    "y_pred3 = dt.predict(X_test)\n",
    "mse3 = mean_squared_error(y_test,y_pred3)\n",
    "rsq3 = r2_score(y_test,y_pred3)\n",
    "\n",
    "print('mean squared error :',mse3)\n",
    "print('r square for Decision Tree Regressor:',rsq3)\n",
    "from sklearn.ensemble import GradientBoostingRegressor\n",
    "gbm=GradientBoostingRegressor()\n",
    "gbm.fit(X_train, y_train)\n",
    "y_pred4 = gbm.predict(X_test)\n",
    "mse4 = mean_squared_error(y_test,y_pred4)\n",
    "rsq4 = r2_score(y_test,y_pred4)\n",
    "\n",
    "print('mean squared error :',mse4)\n",
    "print('r square for GradientBoostingRegressor:',rsq4)\n",
    "from sklearn.ensemble import AdaBoostRegressor\n",
    "ada=AdaBoostRegressor()\n",
    "ada.fit(X_train, y_train)\n",
    "y_pred5 = ada.predict(X_test)\n",
    "mse5 = mean_squared_error(y_test,y_pred5)\n",
    "rsq5 = r2_score(y_test,y_pred5)\n",
    "\n",
    "print('mean squared error :',mse5)\n",
    "print('r square for AdaBoostRegressor:',rsq5)\n",
    "from sklearn.ensemble import RandomForestRegressor\n",
    "rfr=RandomForestRegressor()\n",
    "rfr.fit(X_train, y_train)\n",
    "y_pred6 = rfr.predict(X_test)\n",
    "mse6 = mean_squared_error(y_test,y_pred6)\n",
    "rsq6 = r2_score(y_test,y_pred6)\n",
    "\n",
    "print('mean squared error :',mse6)\n",
    "print('r square for RandomForstRegressor:',rsq6)\n",
    "import joblib as jl\n",
    "import pickle\n",
    "\n",
    "pickle.dump(rfr,open('PredictionModel.pkl','wb'))\n",
    "\n",
    "jl.dump(rfr, 'PredictionModel.joblib')\n",
    "\n"
   ]
  },
  {
   "cell_type": "code",
   "execution_count": 3,
   "id": "a6266d85",
   "metadata": {},
   "outputs": [],
   "source": [
    "import os\n",
    "from skimage.io import imread\n",
    "from skimage.transform import resize\n",
    "import numpy as np\n",
    "from sklearn.model_selection import train_test_split, GridSearchCV\n",
    "from sklearn.svm import SVC\n",
    "from sklearn.metrics import accuracy_score\n",
    "input_dir = r'C:\\Users\\Usuario 1\\Desktop\\TC9\\data'\n",
    "categories = ['non-vehicles','vehicles']\n",
    "\n",
    "data = []\n",
    "labels = []\n",
    "\n",
    "\n",
    "\n",
    "\n",
    "        "
   ]
  },
  {
   "cell_type": "code",
   "execution_count": 4,
   "id": "7e63757f",
   "metadata": {},
   "outputs": [],
   "source": [
    "for category_idx, category in enumerate(categories):\n",
    "    for file in os.listdir(os.path.join(input_dir, category)):\n",
    "        img_path = os.path.join(input_dir, category, file)\n",
    "        img = imread(img_path)\n",
    "        img = resize(img, (15, 15))\n",
    "        data.append(img.flatten())\n",
    "        labels.append(category_idx) \n",
    "        "
   ]
  },
  {
   "cell_type": "code",
   "execution_count": 6,
   "id": "9555d2ac",
   "metadata": {},
   "outputs": [],
   "source": [
    "data = np.asarray(data)\n",
    "labels = np.asarray(labels)  "
   ]
  },
  {
   "cell_type": "code",
   "execution_count": 7,
   "id": "e32570ff",
   "metadata": {},
   "outputs": [],
   "source": [
    "X_train, X_test, y_train, y_test = train_test_split(data, labels, test_size=0.2, shuffle=True, stratify=labels)"
   ]
  },
  {
   "cell_type": "code",
   "execution_count": 8,
   "id": "2c5502cb",
   "metadata": {},
   "outputs": [],
   "source": [
    "classifier  = SVC()"
   ]
  },
  {
   "cell_type": "code",
   "execution_count": 9,
   "id": "341b3f07",
   "metadata": {},
   "outputs": [],
   "source": [
    "parameters = [{'gamma':[0.01, 0.001, 0.0001],'C':[1, 10, 100, 1000]}]"
   ]
  },
  {
   "cell_type": "code",
   "execution_count": 10,
   "id": "430da246",
   "metadata": {},
   "outputs": [],
   "source": [
    "grid_search = GridSearchCV(classifier, parameters)"
   ]
  },
  {
   "cell_type": "code",
   "execution_count": 11,
   "id": "c30513b5",
   "metadata": {},
   "outputs": [
    {
     "data": {
      "text/html": [
       "<style>#sk-container-id-1 {color: black;background-color: white;}#sk-container-id-1 pre{padding: 0;}#sk-container-id-1 div.sk-toggleable {background-color: white;}#sk-container-id-1 label.sk-toggleable__label {cursor: pointer;display: block;width: 100%;margin-bottom: 0;padding: 0.3em;box-sizing: border-box;text-align: center;}#sk-container-id-1 label.sk-toggleable__label-arrow:before {content: \"▸\";float: left;margin-right: 0.25em;color: #696969;}#sk-container-id-1 label.sk-toggleable__label-arrow:hover:before {color: black;}#sk-container-id-1 div.sk-estimator:hover label.sk-toggleable__label-arrow:before {color: black;}#sk-container-id-1 div.sk-toggleable__content {max-height: 0;max-width: 0;overflow: hidden;text-align: left;background-color: #f0f8ff;}#sk-container-id-1 div.sk-toggleable__content pre {margin: 0.2em;color: black;border-radius: 0.25em;background-color: #f0f8ff;}#sk-container-id-1 input.sk-toggleable__control:checked~div.sk-toggleable__content {max-height: 200px;max-width: 100%;overflow: auto;}#sk-container-id-1 input.sk-toggleable__control:checked~label.sk-toggleable__label-arrow:before {content: \"▾\";}#sk-container-id-1 div.sk-estimator input.sk-toggleable__control:checked~label.sk-toggleable__label {background-color: #d4ebff;}#sk-container-id-1 div.sk-label input.sk-toggleable__control:checked~label.sk-toggleable__label {background-color: #d4ebff;}#sk-container-id-1 input.sk-hidden--visually {border: 0;clip: rect(1px 1px 1px 1px);clip: rect(1px, 1px, 1px, 1px);height: 1px;margin: -1px;overflow: hidden;padding: 0;position: absolute;width: 1px;}#sk-container-id-1 div.sk-estimator {font-family: monospace;background-color: #f0f8ff;border: 1px dotted black;border-radius: 0.25em;box-sizing: border-box;margin-bottom: 0.5em;}#sk-container-id-1 div.sk-estimator:hover {background-color: #d4ebff;}#sk-container-id-1 div.sk-parallel-item::after {content: \"\";width: 100%;border-bottom: 1px solid gray;flex-grow: 1;}#sk-container-id-1 div.sk-label:hover label.sk-toggleable__label {background-color: #d4ebff;}#sk-container-id-1 div.sk-serial::before {content: \"\";position: absolute;border-left: 1px solid gray;box-sizing: border-box;top: 0;bottom: 0;left: 50%;z-index: 0;}#sk-container-id-1 div.sk-serial {display: flex;flex-direction: column;align-items: center;background-color: white;padding-right: 0.2em;padding-left: 0.2em;position: relative;}#sk-container-id-1 div.sk-item {position: relative;z-index: 1;}#sk-container-id-1 div.sk-parallel {display: flex;align-items: stretch;justify-content: center;background-color: white;position: relative;}#sk-container-id-1 div.sk-item::before, #sk-container-id-1 div.sk-parallel-item::before {content: \"\";position: absolute;border-left: 1px solid gray;box-sizing: border-box;top: 0;bottom: 0;left: 50%;z-index: -1;}#sk-container-id-1 div.sk-parallel-item {display: flex;flex-direction: column;z-index: 1;position: relative;background-color: white;}#sk-container-id-1 div.sk-parallel-item:first-child::after {align-self: flex-end;width: 50%;}#sk-container-id-1 div.sk-parallel-item:last-child::after {align-self: flex-start;width: 50%;}#sk-container-id-1 div.sk-parallel-item:only-child::after {width: 0;}#sk-container-id-1 div.sk-dashed-wrapped {border: 1px dashed gray;margin: 0 0.4em 0.5em 0.4em;box-sizing: border-box;padding-bottom: 0.4em;background-color: white;}#sk-container-id-1 div.sk-label label {font-family: monospace;font-weight: bold;display: inline-block;line-height: 1.2em;}#sk-container-id-1 div.sk-label-container {text-align: center;}#sk-container-id-1 div.sk-container {/* jupyter's `normalize.less` sets `[hidden] { display: none; }` but bootstrap.min.css set `[hidden] { display: none !important; }` so we also need the `!important` here to be able to override the default hidden behavior on the sphinx rendered scikit-learn.org. See: https://github.com/scikit-learn/scikit-learn/issues/21755 */display: inline-block !important;position: relative;}#sk-container-id-1 div.sk-text-repr-fallback {display: none;}</style><div id=\"sk-container-id-1\" class=\"sk-top-container\"><div class=\"sk-text-repr-fallback\"><pre>GridSearchCV(estimator=SVC(),\n",
       "             param_grid=[{&#x27;C&#x27;: [1, 10, 100, 1000],\n",
       "                          &#x27;gamma&#x27;: [0.01, 0.001, 0.0001]}])</pre><b>In a Jupyter environment, please rerun this cell to show the HTML representation or trust the notebook. <br />On GitHub, the HTML representation is unable to render, please try loading this page with nbviewer.org.</b></div><div class=\"sk-container\" hidden><div class=\"sk-item sk-dashed-wrapped\"><div class=\"sk-label-container\"><div class=\"sk-label sk-toggleable\"><input class=\"sk-toggleable__control sk-hidden--visually\" id=\"sk-estimator-id-1\" type=\"checkbox\" ><label for=\"sk-estimator-id-1\" class=\"sk-toggleable__label sk-toggleable__label-arrow\">GridSearchCV</label><div class=\"sk-toggleable__content\"><pre>GridSearchCV(estimator=SVC(),\n",
       "             param_grid=[{&#x27;C&#x27;: [1, 10, 100, 1000],\n",
       "                          &#x27;gamma&#x27;: [0.01, 0.001, 0.0001]}])</pre></div></div></div><div class=\"sk-parallel\"><div class=\"sk-parallel-item\"><div class=\"sk-item\"><div class=\"sk-label-container\"><div class=\"sk-label sk-toggleable\"><input class=\"sk-toggleable__control sk-hidden--visually\" id=\"sk-estimator-id-2\" type=\"checkbox\" ><label for=\"sk-estimator-id-2\" class=\"sk-toggleable__label sk-toggleable__label-arrow\">estimator: SVC</label><div class=\"sk-toggleable__content\"><pre>SVC()</pre></div></div></div><div class=\"sk-serial\"><div class=\"sk-item\"><div class=\"sk-estimator sk-toggleable\"><input class=\"sk-toggleable__control sk-hidden--visually\" id=\"sk-estimator-id-3\" type=\"checkbox\" ><label for=\"sk-estimator-id-3\" class=\"sk-toggleable__label sk-toggleable__label-arrow\">SVC</label><div class=\"sk-toggleable__content\"><pre>SVC()</pre></div></div></div></div></div></div></div></div></div></div>"
      ],
      "text/plain": [
       "GridSearchCV(estimator=SVC(),\n",
       "             param_grid=[{'C': [1, 10, 100, 1000],\n",
       "                          'gamma': [0.01, 0.001, 0.0001]}])"
      ]
     },
     "execution_count": 11,
     "metadata": {},
     "output_type": "execute_result"
    }
   ],
   "source": [
    "grid_search.fit(X_train, y_train)"
   ]
  },
  {
   "cell_type": "code",
   "execution_count": 17,
   "id": "5f3d3a52",
   "metadata": {},
   "outputs": [
    {
     "name": "stdout",
     "output_type": "stream",
     "text": [
      "score : 0.9839527027027027\n"
     ]
    },
    {
     "data": {
      "text/plain": [
       "['PredictionModel2.joblib']"
      ]
     },
     "execution_count": 17,
     "metadata": {},
     "output_type": "execute_result"
    }
   ],
   "source": [
    "best_estimator = grid_search.best_estimator_\n",
    "y_pred = best_estimator.predict(X_test)\n",
    "score = accuracy_score(y_pred, y_test)\n",
    "print ('score :', score)\n",
    "\n",
    "jl.dump(classifier, 'PredictionModel2.joblib')"
   ]
  },
  {
   "cell_type": "code",
   "execution_count": 18,
   "id": "c2872186",
   "metadata": {},
   "outputs": [
    {
     "data": {
      "text/plain": [
       "['Prediction2.joblib']"
      ]
     },
     "execution_count": 18,
     "metadata": {},
     "output_type": "execute_result"
    }
   ],
   "source": [
    "jl.dump(best_estimator, 'Prediction2.joblib')"
   ]
  },
  {
   "cell_type": "code",
   "execution_count": 20,
   "id": "3ea32fcb",
   "metadata": {},
   "outputs": [],
   "source": [
    "import pickle\n",
    "pickle.dump(best_estimator, open('modelPickle.pkl','wb'))\n"
   ]
  }
 ],
 "metadata": {
  "kernelspec": {
   "display_name": "Python 3 (ipykernel)",
   "language": "python",
   "name": "python3"
  },
  "language_info": {
   "codemirror_mode": {
    "name": "ipython",
    "version": 3
   },
   "file_extension": ".py",
   "mimetype": "text/x-python",
   "name": "python",
   "nbconvert_exporter": "python",
   "pygments_lexer": "ipython3",
   "version": "3.8.6"
  }
 },
 "nbformat": 4,
 "nbformat_minor": 5
}
